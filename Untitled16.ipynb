{
 "cells": [
  {
   "cell_type": "code",
   "execution_count": 1,
   "id": "29c9392d",
   "metadata": {},
   "outputs": [
    {
     "name": "stdout",
     "output_type": "stream",
     "text": [
      "Twinkle, twinkle little star,\n",
      "          How I wonder what you are!\n",
      "               Up above the world so high,\n",
      "               Like a diamond in the sky.\n",
      "Twinkle, twinkle little star,\n",
      "         How I wonder what you are! \n"
     ]
    }
   ],
   "source": [
    "#    question 1\n",
    "\n",
    "x = \"Twinkle, twinkle little star,\"\n",
    "print(x);\n",
    "y = \"          How I wonder what you are!\"\n",
    "print(y);\n",
    "z = \"               Up above the world so high,\"\n",
    "print(z);\n",
    "a = \"               Like a diamond in the sky.\"\n",
    "print(a);\n",
    "b = \"Twinkle, twinkle little star,\"\n",
    "print(b);\n",
    "c = \"         How I wonder what you are! \"\n",
    "print(c);"
   ]
  },
  {
   "cell_type": "code",
   "execution_count": 2,
   "id": "476a961f",
   "metadata": {},
   "outputs": [
    {
     "name": "stdout",
     "output_type": "stream",
     "text": [
      "3.8.8 (default, Apr 13 2021, 15:08:03) [MSC v.1916 64 bit (AMD64)]\n"
     ]
    }
   ],
   "source": [
    "#      question 2\n",
    "import sys\n",
    "print(sys.version)"
   ]
  },
  {
   "cell_type": "code",
   "execution_count": 3,
   "id": "fa4a73cf",
   "metadata": {},
   "outputs": [
    {
     "name": "stdout",
     "output_type": "stream",
     "text": [
      "Current date and time : \n",
      "2022-01-01 18:38:39\n"
     ]
    }
   ],
   "source": [
    "#      question 3\n",
    "import datetime\n",
    "now = datetime.datetime.now()\n",
    "print (\"Current date and time : \")\n",
    "print (now.strftime(\"%Y-%m-%d %H:%M:%S\"))"
   ]
  },
  {
   "cell_type": "code",
   "execution_count": 1,
   "id": "18dab9a4",
   "metadata": {},
   "outputs": [
    {
     "name": "stdout",
     "output_type": "stream",
     "text": [
      "Input the radius of the circle : 45\n",
      "The area of the circle with radius 45.0 is: 6361.725123519331\n"
     ]
    }
   ],
   "source": [
    "# import math module\n",
    "from math import pi\n",
    "\n",
    "# take input from user\n",
    "r = float(input (\"Input the radius of the circle : \"))\n",
    "\n",
    "# compute the area from radius of a circle given by user\n",
    "calculateArea = str(pi * r**2);\n",
    "\n",
    "#print result\n",
    "print (\"The area of the circle with radius \" + str(r) + \" is: \" + calculateArea)"
   ]
  },
  {
   "cell_type": "code",
   "execution_count": 5,
   "id": "820d6650",
   "metadata": {},
   "outputs": [
    {
     "name": "stdout",
     "output_type": "stream",
     "text": [
      "Enter your first namesawera\n",
      "Enter your last namezara\n",
      "zara sawera\n"
     ]
    }
   ],
   "source": [
    "#     question 5\n",
    "x = input(\"Enter your first name\");\n",
    "y = input(\"Enter your last name\");\n",
    "z = (y+\" \"+x);\n",
    "print(z);"
   ]
  },
  {
   "cell_type": "code",
   "execution_count": 21,
   "id": "89fd54aa",
   "metadata": {},
   "outputs": [
    {
     "name": "stdout",
     "output_type": "stream",
     "text": [
      "enter first value78\n",
      "enter first value79\n",
      "157\n"
     ]
    }
   ],
   "source": [
    "#       question 6\n",
    "x = int(input(\"enter first value\"));\n",
    "y = int(input(\"enter first value\"));\n",
    "z = (x + y);\n",
    "print(z);"
   ]
  },
  {
   "cell_type": "code",
   "execution_count": null,
   "id": "0412fdd8",
   "metadata": {},
   "outputs": [],
   "source": []
  }
 ],
 "metadata": {
  "kernelspec": {
   "display_name": "Python 3",
   "language": "python",
   "name": "python3"
  },
  "language_info": {
   "codemirror_mode": {
    "name": "ipython",
    "version": 3
   },
   "file_extension": ".py",
   "mimetype": "text/x-python",
   "name": "python",
   "nbconvert_exporter": "python",
   "pygments_lexer": "ipython3",
   "version": "3.8.8"
  }
 },
 "nbformat": 4,
 "nbformat_minor": 5
}
